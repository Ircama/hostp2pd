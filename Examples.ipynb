{
 "cells": [
  {
   "cell_type": "markdown",
   "id": "industrial-charlotte",
   "metadata": {},
   "source": [
    "The following example shows how to use the *hostp2pd* Python API in interactive mode, with the Context Manager:"
   ]
  },
  {
   "cell_type": "code",
   "execution_count": 1,
   "id": "pleased-feeling",
   "metadata": {},
   "outputs": [
    {
     "name": "stdout",
     "output_type": "stream",
     "text": [
      "Completed.\n"
     ]
    }
   ],
   "source": [
    "from hostp2pd import HostP2pD\n",
    "\n",
    "hostp2pd = HostP2pD(\n",
    "    config_file=\"config_file\",  # optional pathname of the hostp2pd.yaml configuration file\n",
    "    interface=\"p2p-dev-wlan0\",  # optional string defining the wlan interface (check it with iw dev)\n",
    "    run_program=\"\",             # optional run_program\n",
    "    force_logging=None,         # optional logging mode\n",
    "    pbc_white_list=[],          # optional name white list of allowed PBC station names\n",
    "    pin=\"00000000\")             # optional PIN of keypad enrolment\n",
    "\n",
    "import time\n",
    "\n",
    "with hostp2pd as session:\n",
    "    # do interactive monitoring while the process run\n",
    "    time.sleep(40) # example\n",
    "    \n",
    "print(\"Completed.\")"
   ]
  },
  {
   "cell_type": "markdown",
   "id": "seven-knitting",
   "metadata": {},
   "source": [
    "The following example browses the registered Wi-Fi Direct stations after collecting information for 40 seconds."
   ]
  },
  {
   "cell_type": "code",
   "execution_count": 11,
   "id": "resistant-baseball",
   "metadata": {},
   "outputs": [
    {
     "name": "stdout",
     "output_type": "stream",
     "text": [
      "Station addresses:\n",
      "  ae:e2:d3:41:27:14 = DIRECT-14-HP ENVY 5000 series       (Printer)\n",
      "  ee:11:6c:59:a3:d4 = DIRECT-Example                      (AP Network Infrastructure device)\n",
      "Completed.\n"
     ]
    }
   ],
   "source": [
    "from hostp2pd import HostP2pD\n",
    "import time\n",
    "\n",
    "with HostP2pD() as hostp2pd:\n",
    "    time.sleep(40)\n",
    "    if hostp2pd.addr_register:\n",
    "        print(\"Station addresses:\")\n",
    "        for i in hostp2pd.addr_register:\n",
    "            print(\"  {} = {:35s} ({})\".format(i,\n",
    "                    hostp2pd.addr_register[i],\n",
    "                    (hostp2pd.dev_type_register[i]\n",
    "                        if i in hostp2pd.dev_type_register\n",
    "                        else \"(unknown device type)\")\n",
    "                )\n",
    "            )\n",
    "\n",
    "print(\"Completed.\")"
   ]
  },
  {
   "cell_type": "markdown",
   "id": "jewish-reception",
   "metadata": {},
   "source": [
    "The following example lists all the interfaces enumerated by *dbus*; notice that the *P2P Device* interface and a possible *P2P-GO* interface are not enumerated by the *wpa_supplicant*'s *dbus* inteface (*wpa_supplicant* must be run with the `-u` option), because the P2P objects are not registered to the *dbus* interface."
   ]
  },
  {
   "cell_type": "code",
   "execution_count": 22,
   "id": "athletic-filling",
   "metadata": {},
   "outputs": [
    {
     "name": "stdout",
     "output_type": "stream",
     "text": [
      "Interface wlp2s0\n"
     ]
    }
   ],
   "source": [
    "import dbus\n",
    "\n",
    "WPAS_DBUS_SERVICE = \"fi.w1.wpa_supplicant1\"\n",
    "WPAS_DBUS_OPATH = \"/fi/w1/wpa_supplicant1\"\n",
    "WPAS_DBUS_INTERFACES_INTERFACE = \"fi.w1.wpa_supplicant1.Interface\"\n",
    "WPAS_DBUS_INTERFACE_PROPERTIES = \"org.freedesktop.DBus.Properties\"\n",
    "\n",
    "bus = dbus.SystemBus()\n",
    "wpa_sup_obj = bus.get_object(WPAS_DBUS_SERVICE, WPAS_DBUS_OPATH)\n",
    "props_iface = dbus.Interface(wpa_sup_obj, WPAS_DBUS_INTERFACE_PROPERTIES)\n",
    "interfaces = props_iface.Get(WPAS_DBUS_SERVICE, \"Interfaces\")\n",
    "\n",
    "for interface in interfaces:\n",
    "    interface_obj = bus.get_object(WPAS_DBUS_SERVICE, interface)\n",
    "    interface_interface_props = dbus.Interface(\n",
    "        interface_obj, WPAS_DBUS_INTERFACE_PROPERTIES)\n",
    "    print(\n",
    "        \"Interface %s\" %\n",
    "            interface_interface_props.Get(\n",
    "                WPAS_DBUS_INTERFACES_INTERFACE, \"Ifname\"))\n",
    "\n"
   ]
  },
  {
   "cell_type": "code",
   "execution_count": null,
   "id": "sacred-today",
   "metadata": {},
   "outputs": [],
   "source": []
  }
 ],
 "metadata": {
  "kernelspec": {
   "display_name": "Python 3",
   "language": "python",
   "name": "python3"
  },
  "language_info": {
   "codemirror_mode": {
    "name": "ipython",
    "version": 3
   },
   "file_extension": ".py",
   "mimetype": "text/x-python",
   "name": "python",
   "nbconvert_exporter": "python",
   "pygments_lexer": "ipython3",
   "version": "3.8.5"
  }
 },
 "nbformat": 4,
 "nbformat_minor": 5
}

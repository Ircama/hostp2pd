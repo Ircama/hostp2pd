{
 "cells": [
  {
   "cell_type": "markdown",
   "id": "industrial-charlotte",
   "metadata": {},
   "source": [
    "The following example shows how to use the *hostp2pd* Python API in interactive mode, with the Context Manager:"
   ]
  },
  {
   "cell_type": "code",
   "execution_count": 1,
   "id": "pleased-feeling",
   "metadata": {},
   "outputs": [
    {
     "name": "stdout",
     "output_type": "stream",
     "text": [
      "Completed.\n"
     ]
    }
   ],
   "source": [
    "from hostp2pd import HostP2pD\n",
    "\n",
    "hostp2pd = HostP2pD(\n",
    "    config_file=\"config_file\",  # optional pathname of the hostp2pd.yaml configuration file\n",
    "    interface=\"p2p-dev-wlan0\",  # optional string defining the wlan interface (check it with iw dev)\n",
    "    run_program=\"\",             # optional run_program\n",
    "    force_logging=None,         # optional logging mode\n",
    "    pbc_white_list=[],          # optional name white list of allowed PBC station names\n",
    "    pin=\"00000000\")             # optional PIN of keypad enrolment\n",
    "\n",
    "import time\n",
    "\n",
    "with hostp2pd as session:\n",
    "    # do interactive monitoring while the process run\n",
    "    time.sleep(40) # example\n",
    "    \n",
    "print(\"Completed.\")"
   ]
  },
  {
   "cell_type": "markdown",
   "id": "seven-knitting",
   "metadata": {},
   "source": [
    "The following example browses the registered Wi-Fi Direct stations after collecting information for 40 seconds."
   ]
  },
  {
   "cell_type": "code",
   "execution_count": 11,
   "id": "resistant-baseball",
   "metadata": {},
   "outputs": [
    {
     "name": "stdout",
     "output_type": "stream",
     "text": [
      "Station addresses:\n",
      "  ae:e2:d3:41:27:14 = DIRECT-14-HP ENVY 5000 series       (Printer)\n",
      "  ee:11:6c:59:a3:d4 = DIRECT-Toyota                       (AP Network Infrastructure device)\n",
      "Completed.\n"
     ]
    }
   ],
   "source": [
    "from hostp2pd import HostP2pD\n",
    "import time\n",
    "\n",
    "with HostP2pD() as hostp2pd:\n",
    "    time.sleep(40)\n",
    "    if hostp2pd.addr_register:\n",
    "        print(\"Station addresses:\")\n",
    "        for i in hostp2pd.addr_register:\n",
    "            print(\"  {} = {:35s} ({})\".format(i,\n",
    "                    hostp2pd.addr_register[i],\n",
    "                    (hostp2pd.dev_type_register[i]\n",
    "                        if i in hostp2pd.dev_type_register\n",
    "                        else \"(unknown device type)\")\n",
    "                )\n",
    "            )\n",
    "\n",
    "print(\"Completed.\")"
   ]
  },
  {
   "cell_type": "code",
   "execution_count": 2,
   "id": "athletic-filling",
   "metadata": {},
   "outputs": [
    {
     "ename": "DBusException",
     "evalue": "fi.w1.wpa_supplicant1.InterfaceUnknown: wpa_supplicant knows nothing about this interface.",
     "output_type": "error",
     "traceback": [
      "\u001b[0;31m---------------------------------------------------------------------------\u001b[0m",
      "\u001b[0;31mDBusException\u001b[0m                             Traceback (most recent call last)",
      "\u001b[0;32m<ipython-input-2-eea8c7644bae>\u001b[0m in \u001b[0;36m<module>\u001b[0;34m\u001b[0m\n\u001b[1;32m      1\u001b[0m \u001b[0;32mimport\u001b[0m \u001b[0mdbus\u001b[0m\u001b[0;34m\u001b[0m\u001b[0;34m\u001b[0m\u001b[0m\n\u001b[0;32m----> 2\u001b[0;31m dbus.Interface(dbus.SystemBus().get_object(\"fi.w1.wpa_supplicant1\",\n\u001b[0m\u001b[1;32m      3\u001b[0m     \"/fi/w1/wpa_supplicant1\"), \"fi.w1.wpa_supplicant1\").GetInterface(\"p2p-dev-wlan0\")\n",
      "\u001b[0;32m/usr/lib/python3/dist-packages/dbus/proxies.py\u001b[0m in \u001b[0;36m__call__\u001b[0;34m(self, *args, **keywords)\u001b[0m\n\u001b[1;32m     70\u001b[0m             \u001b[0;31m# we're being synchronous, so block\u001b[0m\u001b[0;34m\u001b[0m\u001b[0;34m\u001b[0m\u001b[0;34m\u001b[0m\u001b[0m\n\u001b[1;32m     71\u001b[0m             \u001b[0mself\u001b[0m\u001b[0;34m.\u001b[0m\u001b[0m_block\u001b[0m\u001b[0;34m(\u001b[0m\u001b[0;34m)\u001b[0m\u001b[0;34m\u001b[0m\u001b[0;34m\u001b[0m\u001b[0m\n\u001b[0;32m---> 72\u001b[0;31m             \u001b[0;32mreturn\u001b[0m \u001b[0mself\u001b[0m\u001b[0;34m.\u001b[0m\u001b[0m_proxy_method\u001b[0m\u001b[0;34m(\u001b[0m\u001b[0;34m*\u001b[0m\u001b[0margs\u001b[0m\u001b[0;34m,\u001b[0m \u001b[0;34m**\u001b[0m\u001b[0mkeywords\u001b[0m\u001b[0;34m)\u001b[0m\u001b[0;34m\u001b[0m\u001b[0;34m\u001b[0m\u001b[0m\n\u001b[0m\u001b[1;32m     73\u001b[0m \u001b[0;34m\u001b[0m\u001b[0m\n\u001b[1;32m     74\u001b[0m     \u001b[0;32mdef\u001b[0m \u001b[0mcall_async\u001b[0m\u001b[0;34m(\u001b[0m\u001b[0mself\u001b[0m\u001b[0;34m,\u001b[0m \u001b[0;34m*\u001b[0m\u001b[0margs\u001b[0m\u001b[0;34m,\u001b[0m \u001b[0;34m**\u001b[0m\u001b[0mkeywords\u001b[0m\u001b[0;34m)\u001b[0m\u001b[0;34m:\u001b[0m\u001b[0;34m\u001b[0m\u001b[0;34m\u001b[0m\u001b[0m\n",
      "\u001b[0;32m/usr/lib/python3/dist-packages/dbus/proxies.py\u001b[0m in \u001b[0;36m__call__\u001b[0;34m(self, *args, **keywords)\u001b[0m\n\u001b[1;32m    139\u001b[0m                                         **keywords)\n\u001b[1;32m    140\u001b[0m         \u001b[0;32melse\u001b[0m\u001b[0;34m:\u001b[0m\u001b[0;34m\u001b[0m\u001b[0;34m\u001b[0m\u001b[0m\n\u001b[0;32m--> 141\u001b[0;31m             return self._connection.call_blocking(self._named_service,\n\u001b[0m\u001b[1;32m    142\u001b[0m                                                   \u001b[0mself\u001b[0m\u001b[0;34m.\u001b[0m\u001b[0m_object_path\u001b[0m\u001b[0;34m,\u001b[0m\u001b[0;34m\u001b[0m\u001b[0;34m\u001b[0m\u001b[0m\n\u001b[1;32m    143\u001b[0m                                                   \u001b[0mdbus_interface\u001b[0m\u001b[0;34m,\u001b[0m\u001b[0;34m\u001b[0m\u001b[0;34m\u001b[0m\u001b[0m\n",
      "\u001b[0;32m/usr/lib/python3/dist-packages/dbus/connection.py\u001b[0m in \u001b[0;36mcall_blocking\u001b[0;34m(self, bus_name, object_path, dbus_interface, method, signature, args, timeout, byte_arrays, **kwargs)\u001b[0m\n\u001b[1;32m    650\u001b[0m \u001b[0;34m\u001b[0m\u001b[0m\n\u001b[1;32m    651\u001b[0m         \u001b[0;31m# make a blocking call\u001b[0m\u001b[0;34m\u001b[0m\u001b[0;34m\u001b[0m\u001b[0;34m\u001b[0m\u001b[0m\n\u001b[0;32m--> 652\u001b[0;31m         reply_message = self.send_message_with_reply_and_block(\n\u001b[0m\u001b[1;32m    653\u001b[0m             message, timeout)\n\u001b[1;32m    654\u001b[0m         \u001b[0margs_list\u001b[0m \u001b[0;34m=\u001b[0m \u001b[0mreply_message\u001b[0m\u001b[0;34m.\u001b[0m\u001b[0mget_args_list\u001b[0m\u001b[0;34m(\u001b[0m\u001b[0;34m**\u001b[0m\u001b[0mget_args_opts\u001b[0m\u001b[0;34m)\u001b[0m\u001b[0;34m\u001b[0m\u001b[0;34m\u001b[0m\u001b[0m\n",
      "\u001b[0;31mDBusException\u001b[0m: fi.w1.wpa_supplicant1.InterfaceUnknown: wpa_supplicant knows nothing about this interface."
     ]
    }
   ],
   "source": [
    "import dbus\n",
    "dbus.Interface(dbus.SystemBus().get_object(\"fi.w1.wpa_supplicant1\",\n",
    "    \"/fi/w1/wpa_supplicant1\"), \"fi.w1.wpa_supplicant1\").GetInterface(\"p2p-dev-wlan0\")"
   ]
  },
  {
   "cell_type": "code",
   "execution_count": null,
   "id": "constitutional-aspect",
   "metadata": {},
   "outputs": [],
   "source": []
  }
 ],
 "metadata": {
  "kernelspec": {
   "display_name": "Python 3",
   "language": "python",
   "name": "python3"
  },
  "language_info": {
   "codemirror_mode": {
    "name": "ipython",
    "version": 3
   },
   "file_extension": ".py",
   "mimetype": "text/x-python",
   "name": "python",
   "nbconvert_exporter": "python",
   "pygments_lexer": "ipython3",
   "version": "3.8.5"
  }
 },
 "nbformat": 4,
 "nbformat_minor": 5
}
